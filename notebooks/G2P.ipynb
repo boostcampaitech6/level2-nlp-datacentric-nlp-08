{
 "cells": [
  {
   "cell_type": "code",
   "execution_count": null,
   "metadata": {},
   "outputs": [],
   "source": [
    "!pip install g2pk"
   ]
  },
  {
   "cell_type": "code",
   "execution_count": 24,
   "metadata": {},
   "outputs": [],
   "source": [
    "import os\n",
    "import pandas as pd\n",
    "from sklearn.model_selection import train_test_split\n",
    "from g2pk import G2p"
   ]
  },
  {
   "cell_type": "code",
   "execution_count": 41,
   "metadata": {},
   "outputs": [],
   "source": [
    "# 해당 셀만 수정하시면 됩니다.\n",
    "SEED = 456 # seed 설정\n",
    "DATA_DIR = '../../data' # 데이터 디렉토리\n",
    "data = pd.read_csv(os.path.join(DATA_DIR, '데이터셋명.csv'))    # 노이즈 추가할 데이터셋 불러오기\n",
    "noise_ratio = 0.2   # 노이즈 추가할 비율\n",
    "output_csv= '새로운데이터명.csv'"
   ]
  },
  {
   "cell_type": "code",
   "execution_count": null,
   "metadata": {},
   "outputs": [],
   "source": [
    "g2p = G2p()\n",
    "def add_noise(sen):\n",
    "    noise_sen = g2p(sen, descriptive=True, group_vowels=True)\n",
    "    return noise_sen"
   ]
  },
  {
   "cell_type": "code",
   "execution_count": 44,
   "metadata": {},
   "outputs": [],
   "source": [
    "raw_data, noise_data = train_test_split(data, test_size=noise_ratio, stratify=data['target'],random_state=SEED)\n",
    "print(len(raw_data), len(noise_data))"
   ]
  },
  {
   "cell_type": "code",
   "execution_count": 46,
   "metadata": {},
   "outputs": [],
   "source": [
    "noise_data['text'] = noise_data['text'].apply(lambda x: add_noise(x))\n",
    "new_data = pd.concat([raw_data, noise_data], axis=0)\n",
    "new_data.to_csv(os.path.join(DATA_DIR, output_csv))"
   ]
  }
 ],
 "metadata": {
  "kernelspec": {
   "display_name": "base",
   "language": "python",
   "name": "python3"
  },
  "language_info": {
   "codemirror_mode": {
    "name": "ipython",
    "version": 3
   },
   "file_extension": ".py",
   "mimetype": "text/x-python",
   "name": "python",
   "nbconvert_exporter": "python",
   "pygments_lexer": "ipython3",
   "version": "3.8.5"
  }
 },
 "nbformat": 4,
 "nbformat_minor": 2
}
