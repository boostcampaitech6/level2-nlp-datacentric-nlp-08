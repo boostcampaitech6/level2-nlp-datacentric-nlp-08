{
 "cells": [
  {
   "cell_type": "code",
   "execution_count": 42,
   "metadata": {},
   "outputs": [],
   "source": [
    "import pandas as pd"
   ]
  },
  {
   "cell_type": "markdown",
   "metadata": {},
   "source": [
    "https://www.kaggle.com/datasets/rmisra/news-category-dataset?resource=download\n",
    "\n",
    "에서 공개된 영어 뉴스 데이터 - category 데이터셋을 \n",
    "\n",
    "json에서 csv로 변환합니다.\n",
    "\n",
    "이때 0, 1, 3, 4, 5, 6, (사회 분야 제외) 레이블별로 동일한 개수로 샘플링합니다."
   ]
  },
  {
   "cell_type": "code",
   "execution_count": 70,
   "metadata": {},
   "outputs": [],
   "source": [
    "NEWS_NUM = 209527\n",
    "\n",
    "data_path = './News_Category_Dataset_v3.json'\n",
    "category2label = {\n",
    "    'SPORTS' : 5, \n",
    "    'POLITICS' : 6, \n",
    "    'SCIENCE' : 0,\n",
    "    'WORLD NEWS' : 4,\n",
    "    'BUSINESS' : 1,\n",
    "    'HOME & LIVING' : 3 \n",
    "}"
   ]
  },
  {
   "cell_type": "code",
   "execution_count": 71,
   "metadata": {},
   "outputs": [],
   "source": [
    "df = pd.DataFrame(columns =  [\"ID\", \"text\", \"target\", \"date\"])"
   ]
  },
  {
   "cell_type": "code",
   "execution_count": 72,
   "metadata": {},
   "outputs": [],
   "source": [
    "with open(data_path) as f:\n",
    "    for x in range(NEWS_NUM):\n",
    "        sample_dict = eval(f.readline())\n",
    "        if sample_dict['category'] in category2label.keys():\n",
    "            new_row = {\n",
    "                'ID' : f'news-category-v3_{x}',\n",
    "                'target' : category2label[sample_dict['category']],\n",
    "                'text' : sample_dict['headline'].replace('’', \"'\"),\n",
    "                'date' : sample_dict['date']\n",
    "            }\n",
    "            distribution = dict(df['target'].value_counts())\n",
    "            if distribution.get(int(new_row['target']), 0) > 499:\n",
    "                continue\n",
    "            df = pd.concat([df, pd.DataFrame([new_row])], ignore_index=True)\n",
    "            # print(sample_dict['headline'])\n",
    "            # print(sample_dict['target'])\n",
    "            # print(sample_dict['date'])\n",
    "            # print(sample_dict['ID'])\n",
    "            "
   ]
  },
  {
   "cell_type": "code",
   "execution_count": 75,
   "metadata": {},
   "outputs": [],
   "source": [
    "df.to_csv('./save.csv')"
   ]
  },
  {
   "cell_type": "code",
   "execution_count": 76,
   "metadata": {},
   "outputs": [
    {
     "data": {
      "text/plain": [
       "{4: 500, 5: 500, 6: 500, 0: 500, 1: 500, 3: 500}"
      ]
     },
     "execution_count": 76,
     "metadata": {},
     "output_type": "execute_result"
    }
   ],
   "source": [
    "dict(df['target'].value_counts())"
   ]
  }
 ],
 "metadata": {
  "kernelspec": {
   "display_name": "base",
   "language": "python",
   "name": "python3"
  },
  "language_info": {
   "codemirror_mode": {
    "name": "ipython",
    "version": 3
   },
   "file_extension": ".py",
   "mimetype": "text/x-python",
   "name": "python",
   "nbconvert_exporter": "python",
   "pygments_lexer": "ipython3",
   "version": "3.8.5"
  }
 },
 "nbformat": 4,
 "nbformat_minor": 2
}
